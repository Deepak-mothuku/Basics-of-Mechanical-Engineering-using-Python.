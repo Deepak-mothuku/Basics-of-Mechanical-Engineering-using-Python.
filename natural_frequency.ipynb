{
 "cells": [
  {
   "cell_type": "code",
   "execution_count": null,
   "id": "8c957c01-0e82-435c-a4ff-2cb6901466f8",
   "metadata": {},
   "outputs": [],
   "source": [
    "# Natural Frequencies of system\n",
    "\n",
    "import numpy as np\n",
    "from scipy import linalg\n",
    "\n",
    "m1,m2,m3 = (1,1,1)\n",
    "k1,k2,k3 = (1600,1600,1600)\n",
    "\n",
    "M = np.array ([[m1,0,0],\n",
    "               [0,m2,0],\n",
    "               [0,0,m3]])\n",
    "\n",
    "K = np.array ([[k1+k2,-k2,0],\n",
    "               [-k2,k2+k3,-k3],\n",
    "               [0,-k3,k3]])\n",
    "\n",
    "u,v = linalg.eigh(K,M)\n",
    "\n",
    "nat_freq = np.sqrt(u)\n",
    "\n",
    "print(\"First natural frequency :\",nat_freq[0])\n",
    "print(\"Second natural frequency :\",nat_freq[1])\n",
    "print(\"Third natural frequency :\",nat_freq[2])"
   ]
  }
 ],
 "metadata": {
  "kernelspec": {
   "display_name": "Python 3 (ipykernel)",
   "language": "python",
   "name": "python3"
  },
  "language_info": {
   "codemirror_mode": {
    "name": "ipython",
    "version": 3
   },
   "file_extension": ".py",
   "mimetype": "text/x-python",
   "name": "python",
   "nbconvert_exporter": "python",
   "pygments_lexer": "ipython3",
   "version": "3.12.4"
  }
 },
 "nbformat": 4,
 "nbformat_minor": 5
}
